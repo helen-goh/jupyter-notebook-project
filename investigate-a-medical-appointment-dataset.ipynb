{
 "cells": [
  {
   "cell_type": "markdown",
   "metadata": {},
   "source": [
    "\n",
    "\n",
    "# Project: Medical Appointments Attendances Investigation\n",
    "\n",
    "## Table of Contents\n",
    "<ul>\n",
    "<li><a href=\"#intro\">Introduction</a></li>\n",
    "<li><a href=\"#wrangling\">Data Wrangling</a></li>\n",
    "<li><a href=\"#eda\">Exploratory Data Analysis</a></li>\n",
    "<li><a href=\"#conclusions\">Conclusions</a></li>\n",
    "</ul>"
   ]
  },
  {
   "cell_type": "markdown",
   "metadata": {},
   "source": [
    "<a id='intro'></a>\n",
    "## 1. Introduction\n",
    "\n",
    "> In this project, I will use <a href=\"https://www.kaggle.com/joniarroba/noshowappointments\" title=\"Medical Appointment No Show\">Medical Appointment No Shows</a> provided by Kaggle as my analysis dataset. My project goal is to find out the factors for us to predict if a patients will show up for their scheduled appointment."
   ]
  },
  {
   "cell_type": "code",
   "execution_count": 1,
   "metadata": {},
   "outputs": [],
   "source": [
    "# Import statement to load usefull packages.\n",
    "import matplotlib.pyplot as plt\n",
    "import numpy as np\n",
    "import pandas as pd\n",
    "import re\n",
    "import datetime\n",
    "\n",
    "%matplotlib inline"
   ]
  },
  {
   "cell_type": "markdown",
   "metadata": {},
   "source": [
    "<a id='wrangling'></a>\n",
    "## 2. Data Wrangling\n",
    "\n",
    ">In this section of the report, data will be:\n",
    "- loaded\n",
    "- accessed for cleanliness check\n",
    "- trimed and cleaned for analysis \n",
    "\n",
    "\n",
    "### 2.1 Gathering data\n",
    "\n",
    ">The dataset is taken from <a href=\"https://www.google.com/url?q=https://d17h27t6h515a5.cloudfront.net/topher/2017/October/59dd2e9a_noshowappointments-kagglev2-may-2016/noshowappointments-kagglev2-may-2016.csv&sa=D&ust=1532469042118000\">here</a>.\n",
    "\n",
    "\n",
    "### 2.2 Accessing data\n",
    "\n",
    "> Steps taken:\n",
    "\n",
    "> - Load and read data from `noshowappointments.csv` for inspection. \n",
    "\n",
    "> - The shape, datatype, first few and last few records and summary of statistic of the dataset are displayed for me to get a quick understanding about the dataset.\n",
    "\n",
    "> - Then, checking will be done to see if there is missing values and also duplicate records in the dataset.\n"
   ]
  },
  {
   "cell_type": "markdown",
   "metadata": {},
   "source": [
    "First, load and read data from `noshowappointments.csv` for inspection. And have a look at few and last few records of the dataset. "
   ]
  },
  {
   "cell_type": "code",
   "execution_count": 2,
   "metadata": {},
   "outputs": [
    {
     "data": {
      "text/html": [
       "<div>\n",
       "<style scoped>\n",
       "    .dataframe tbody tr th:only-of-type {\n",
       "        vertical-align: middle;\n",
       "    }\n",
       "\n",
       "    .dataframe tbody tr th {\n",
       "        vertical-align: top;\n",
       "    }\n",
       "\n",
       "    .dataframe thead th {\n",
       "        text-align: right;\n",
       "    }\n",
       "</style>\n",
       "<table border=\"1\" class=\"dataframe\">\n",
       "  <thead>\n",
       "    <tr style=\"text-align: right;\">\n",
       "      <th></th>\n",
       "      <th>PatientId</th>\n",
       "      <th>AppointmentID</th>\n",
       "      <th>Gender</th>\n",
       "      <th>ScheduledDay</th>\n",
       "      <th>AppointmentDay</th>\n",
       "      <th>Age</th>\n",
       "      <th>Neighbourhood</th>\n",
       "      <th>Scholarship</th>\n",
       "      <th>Hipertension</th>\n",
       "      <th>Diabetes</th>\n",
       "      <th>Alcoholism</th>\n",
       "      <th>Handcap</th>\n",
       "      <th>SMS_received</th>\n",
       "      <th>No-show</th>\n",
       "    </tr>\n",
       "  </thead>\n",
       "  <tbody>\n",
       "    <tr>\n",
       "      <th>0</th>\n",
       "      <td>2.987250e+13</td>\n",
       "      <td>5642903</td>\n",
       "      <td>F</td>\n",
       "      <td>2016-04-29T18:38:08Z</td>\n",
       "      <td>2016-04-29T00:00:00Z</td>\n",
       "      <td>62</td>\n",
       "      <td>JARDIM DA PENHA</td>\n",
       "      <td>0</td>\n",
       "      <td>1</td>\n",
       "      <td>0</td>\n",
       "      <td>0</td>\n",
       "      <td>0</td>\n",
       "      <td>0</td>\n",
       "      <td>No</td>\n",
       "    </tr>\n",
       "    <tr>\n",
       "      <th>1</th>\n",
       "      <td>5.589978e+14</td>\n",
       "      <td>5642503</td>\n",
       "      <td>M</td>\n",
       "      <td>2016-04-29T16:08:27Z</td>\n",
       "      <td>2016-04-29T00:00:00Z</td>\n",
       "      <td>56</td>\n",
       "      <td>JARDIM DA PENHA</td>\n",
       "      <td>0</td>\n",
       "      <td>0</td>\n",
       "      <td>0</td>\n",
       "      <td>0</td>\n",
       "      <td>0</td>\n",
       "      <td>0</td>\n",
       "      <td>No</td>\n",
       "    </tr>\n",
       "    <tr>\n",
       "      <th>2</th>\n",
       "      <td>4.262962e+12</td>\n",
       "      <td>5642549</td>\n",
       "      <td>F</td>\n",
       "      <td>2016-04-29T16:19:04Z</td>\n",
       "      <td>2016-04-29T00:00:00Z</td>\n",
       "      <td>62</td>\n",
       "      <td>MATA DA PRAIA</td>\n",
       "      <td>0</td>\n",
       "      <td>0</td>\n",
       "      <td>0</td>\n",
       "      <td>0</td>\n",
       "      <td>0</td>\n",
       "      <td>0</td>\n",
       "      <td>No</td>\n",
       "    </tr>\n",
       "    <tr>\n",
       "      <th>3</th>\n",
       "      <td>8.679512e+11</td>\n",
       "      <td>5642828</td>\n",
       "      <td>F</td>\n",
       "      <td>2016-04-29T17:29:31Z</td>\n",
       "      <td>2016-04-29T00:00:00Z</td>\n",
       "      <td>8</td>\n",
       "      <td>PONTAL DE CAMBURI</td>\n",
       "      <td>0</td>\n",
       "      <td>0</td>\n",
       "      <td>0</td>\n",
       "      <td>0</td>\n",
       "      <td>0</td>\n",
       "      <td>0</td>\n",
       "      <td>No</td>\n",
       "    </tr>\n",
       "    <tr>\n",
       "      <th>4</th>\n",
       "      <td>8.841186e+12</td>\n",
       "      <td>5642494</td>\n",
       "      <td>F</td>\n",
       "      <td>2016-04-29T16:07:23Z</td>\n",
       "      <td>2016-04-29T00:00:00Z</td>\n",
       "      <td>56</td>\n",
       "      <td>JARDIM DA PENHA</td>\n",
       "      <td>0</td>\n",
       "      <td>1</td>\n",
       "      <td>1</td>\n",
       "      <td>0</td>\n",
       "      <td>0</td>\n",
       "      <td>0</td>\n",
       "      <td>No</td>\n",
       "    </tr>\n",
       "  </tbody>\n",
       "</table>\n",
       "</div>"
      ],
      "text/plain": [
       "      PatientId  AppointmentID Gender          ScheduledDay  \\\n",
       "0  2.987250e+13        5642903      F  2016-04-29T18:38:08Z   \n",
       "1  5.589978e+14        5642503      M  2016-04-29T16:08:27Z   \n",
       "2  4.262962e+12        5642549      F  2016-04-29T16:19:04Z   \n",
       "3  8.679512e+11        5642828      F  2016-04-29T17:29:31Z   \n",
       "4  8.841186e+12        5642494      F  2016-04-29T16:07:23Z   \n",
       "\n",
       "         AppointmentDay  Age      Neighbourhood  Scholarship  Hipertension  \\\n",
       "0  2016-04-29T00:00:00Z   62    JARDIM DA PENHA            0             1   \n",
       "1  2016-04-29T00:00:00Z   56    JARDIM DA PENHA            0             0   \n",
       "2  2016-04-29T00:00:00Z   62      MATA DA PRAIA            0             0   \n",
       "3  2016-04-29T00:00:00Z    8  PONTAL DE CAMBURI            0             0   \n",
       "4  2016-04-29T00:00:00Z   56    JARDIM DA PENHA            0             1   \n",
       "\n",
       "   Diabetes  Alcoholism  Handcap  SMS_received No-show  \n",
       "0         0           0        0             0      No  \n",
       "1         0           0        0             0      No  \n",
       "2         0           0        0             0      No  \n",
       "3         0           0        0             0      No  \n",
       "4         1           0        0             0      No  "
      ]
     },
     "execution_count": 2,
     "metadata": {},
     "output_type": "execute_result"
    }
   ],
   "source": [
    "#Loading and inspecting the dataset. \n",
    "df = pd.read_csv('noshowappointments.csv')\n",
    "df.head()"
   ]
  },
  {
   "cell_type": "code",
   "execution_count": 3,
   "metadata": {},
   "outputs": [
    {
     "data": {
      "text/html": [
       "<div>\n",
       "<style scoped>\n",
       "    .dataframe tbody tr th:only-of-type {\n",
       "        vertical-align: middle;\n",
       "    }\n",
       "\n",
       "    .dataframe tbody tr th {\n",
       "        vertical-align: top;\n",
       "    }\n",
       "\n",
       "    .dataframe thead th {\n",
       "        text-align: right;\n",
       "    }\n",
       "</style>\n",
       "<table border=\"1\" class=\"dataframe\">\n",
       "  <thead>\n",
       "    <tr style=\"text-align: right;\">\n",
       "      <th></th>\n",
       "      <th>PatientId</th>\n",
       "      <th>AppointmentID</th>\n",
       "      <th>Gender</th>\n",
       "      <th>ScheduledDay</th>\n",
       "      <th>AppointmentDay</th>\n",
       "      <th>Age</th>\n",
       "      <th>Neighbourhood</th>\n",
       "      <th>Scholarship</th>\n",
       "      <th>Hipertension</th>\n",
       "      <th>Diabetes</th>\n",
       "      <th>Alcoholism</th>\n",
       "      <th>Handcap</th>\n",
       "      <th>SMS_received</th>\n",
       "      <th>No-show</th>\n",
       "    </tr>\n",
       "  </thead>\n",
       "  <tbody>\n",
       "    <tr>\n",
       "      <th>110522</th>\n",
       "      <td>2.572134e+12</td>\n",
       "      <td>5651768</td>\n",
       "      <td>F</td>\n",
       "      <td>2016-05-03T09:15:35Z</td>\n",
       "      <td>2016-06-07T00:00:00Z</td>\n",
       "      <td>56</td>\n",
       "      <td>MARIA ORTIZ</td>\n",
       "      <td>0</td>\n",
       "      <td>0</td>\n",
       "      <td>0</td>\n",
       "      <td>0</td>\n",
       "      <td>0</td>\n",
       "      <td>1</td>\n",
       "      <td>No</td>\n",
       "    </tr>\n",
       "    <tr>\n",
       "      <th>110523</th>\n",
       "      <td>3.596266e+12</td>\n",
       "      <td>5650093</td>\n",
       "      <td>F</td>\n",
       "      <td>2016-05-03T07:27:33Z</td>\n",
       "      <td>2016-06-07T00:00:00Z</td>\n",
       "      <td>51</td>\n",
       "      <td>MARIA ORTIZ</td>\n",
       "      <td>0</td>\n",
       "      <td>0</td>\n",
       "      <td>0</td>\n",
       "      <td>0</td>\n",
       "      <td>0</td>\n",
       "      <td>1</td>\n",
       "      <td>No</td>\n",
       "    </tr>\n",
       "    <tr>\n",
       "      <th>110524</th>\n",
       "      <td>1.557663e+13</td>\n",
       "      <td>5630692</td>\n",
       "      <td>F</td>\n",
       "      <td>2016-04-27T16:03:52Z</td>\n",
       "      <td>2016-06-07T00:00:00Z</td>\n",
       "      <td>21</td>\n",
       "      <td>MARIA ORTIZ</td>\n",
       "      <td>0</td>\n",
       "      <td>0</td>\n",
       "      <td>0</td>\n",
       "      <td>0</td>\n",
       "      <td>0</td>\n",
       "      <td>1</td>\n",
       "      <td>No</td>\n",
       "    </tr>\n",
       "    <tr>\n",
       "      <th>110525</th>\n",
       "      <td>9.213493e+13</td>\n",
       "      <td>5630323</td>\n",
       "      <td>F</td>\n",
       "      <td>2016-04-27T15:09:23Z</td>\n",
       "      <td>2016-06-07T00:00:00Z</td>\n",
       "      <td>38</td>\n",
       "      <td>MARIA ORTIZ</td>\n",
       "      <td>0</td>\n",
       "      <td>0</td>\n",
       "      <td>0</td>\n",
       "      <td>0</td>\n",
       "      <td>0</td>\n",
       "      <td>1</td>\n",
       "      <td>No</td>\n",
       "    </tr>\n",
       "    <tr>\n",
       "      <th>110526</th>\n",
       "      <td>3.775115e+14</td>\n",
       "      <td>5629448</td>\n",
       "      <td>F</td>\n",
       "      <td>2016-04-27T13:30:56Z</td>\n",
       "      <td>2016-06-07T00:00:00Z</td>\n",
       "      <td>54</td>\n",
       "      <td>MARIA ORTIZ</td>\n",
       "      <td>0</td>\n",
       "      <td>0</td>\n",
       "      <td>0</td>\n",
       "      <td>0</td>\n",
       "      <td>0</td>\n",
       "      <td>1</td>\n",
       "      <td>No</td>\n",
       "    </tr>\n",
       "  </tbody>\n",
       "</table>\n",
       "</div>"
      ],
      "text/plain": [
       "           PatientId  AppointmentID Gender          ScheduledDay  \\\n",
       "110522  2.572134e+12        5651768      F  2016-05-03T09:15:35Z   \n",
       "110523  3.596266e+12        5650093      F  2016-05-03T07:27:33Z   \n",
       "110524  1.557663e+13        5630692      F  2016-04-27T16:03:52Z   \n",
       "110525  9.213493e+13        5630323      F  2016-04-27T15:09:23Z   \n",
       "110526  3.775115e+14        5629448      F  2016-04-27T13:30:56Z   \n",
       "\n",
       "              AppointmentDay  Age Neighbourhood  Scholarship  Hipertension  \\\n",
       "110522  2016-06-07T00:00:00Z   56   MARIA ORTIZ            0             0   \n",
       "110523  2016-06-07T00:00:00Z   51   MARIA ORTIZ            0             0   \n",
       "110524  2016-06-07T00:00:00Z   21   MARIA ORTIZ            0             0   \n",
       "110525  2016-06-07T00:00:00Z   38   MARIA ORTIZ            0             0   \n",
       "110526  2016-06-07T00:00:00Z   54   MARIA ORTIZ            0             0   \n",
       "\n",
       "        Diabetes  Alcoholism  Handcap  SMS_received No-show  \n",
       "110522         0           0        0             1      No  \n",
       "110523         0           0        0             1      No  \n",
       "110524         0           0        0             1      No  \n",
       "110525         0           0        0             1      No  \n",
       "110526         0           0        0             1      No  "
      ]
     },
     "execution_count": 3,
     "metadata": {},
     "output_type": "execute_result"
    }
   ],
   "source": [
    "df.tail()"
   ]
  },
  {
   "cell_type": "markdown",
   "metadata": {},
   "source": [
    "Here, we take a look at the shape and datatype of the dataframe."
   ]
  },
  {
   "cell_type": "code",
   "execution_count": 4,
   "metadata": {},
   "outputs": [
    {
     "name": "stdout",
     "output_type": "stream",
     "text": [
      "This dataset contains 110527 rows and 14 columns \n"
     ]
    }
   ],
   "source": [
    "# this returns a tuple of the dimensions of the dataframe\n",
    "print(\"This dataset contains {} rows and {} columns \".format(df.shape[0],df.shape[1]))"
   ]
  },
  {
   "cell_type": "code",
   "execution_count": 5,
   "metadata": {},
   "outputs": [
    {
     "data": {
      "text/plain": [
       "PatientId         float64\n",
       "AppointmentID       int64\n",
       "Gender             object\n",
       "ScheduledDay       object\n",
       "AppointmentDay     object\n",
       "Age                 int64\n",
       "Neighbourhood      object\n",
       "Scholarship         int64\n",
       "Hipertension        int64\n",
       "Diabetes            int64\n",
       "Alcoholism          int64\n",
       "Handcap             int64\n",
       "SMS_received        int64\n",
       "No-show            object\n",
       "dtype: object"
      ]
     },
     "execution_count": 5,
     "metadata": {},
     "output_type": "execute_result"
    }
   ],
   "source": [
    "# this returns the datatypes of the columns\n",
    "df.dtypes"
   ]
  },
  {
   "cell_type": "markdown",
   "metadata": {},
   "source": [
    "Below are the summary of statistic of the dataset."
   ]
  },
  {
   "cell_type": "code",
   "execution_count": 6,
   "metadata": {},
   "outputs": [
    {
     "data": {
      "text/html": [
       "<div>\n",
       "<style scoped>\n",
       "    .dataframe tbody tr th:only-of-type {\n",
       "        vertical-align: middle;\n",
       "    }\n",
       "\n",
       "    .dataframe tbody tr th {\n",
       "        vertical-align: top;\n",
       "    }\n",
       "\n",
       "    .dataframe thead th {\n",
       "        text-align: right;\n",
       "    }\n",
       "</style>\n",
       "<table border=\"1\" class=\"dataframe\">\n",
       "  <thead>\n",
       "    <tr style=\"text-align: right;\">\n",
       "      <th></th>\n",
       "      <th>PatientId</th>\n",
       "      <th>AppointmentID</th>\n",
       "      <th>Age</th>\n",
       "      <th>Scholarship</th>\n",
       "      <th>Hipertension</th>\n",
       "      <th>Diabetes</th>\n",
       "      <th>Alcoholism</th>\n",
       "      <th>Handcap</th>\n",
       "      <th>SMS_received</th>\n",
       "    </tr>\n",
       "  </thead>\n",
       "  <tbody>\n",
       "    <tr>\n",
       "      <th>count</th>\n",
       "      <td>1.105270e+05</td>\n",
       "      <td>1.105270e+05</td>\n",
       "      <td>110527.000000</td>\n",
       "      <td>110527.000000</td>\n",
       "      <td>110527.000000</td>\n",
       "      <td>110527.000000</td>\n",
       "      <td>110527.000000</td>\n",
       "      <td>110527.000000</td>\n",
       "      <td>110527.000000</td>\n",
       "    </tr>\n",
       "    <tr>\n",
       "      <th>mean</th>\n",
       "      <td>1.474963e+14</td>\n",
       "      <td>5.675305e+06</td>\n",
       "      <td>37.088874</td>\n",
       "      <td>0.098266</td>\n",
       "      <td>0.197246</td>\n",
       "      <td>0.071865</td>\n",
       "      <td>0.030400</td>\n",
       "      <td>0.022248</td>\n",
       "      <td>0.321026</td>\n",
       "    </tr>\n",
       "    <tr>\n",
       "      <th>std</th>\n",
       "      <td>2.560949e+14</td>\n",
       "      <td>7.129575e+04</td>\n",
       "      <td>23.110205</td>\n",
       "      <td>0.297675</td>\n",
       "      <td>0.397921</td>\n",
       "      <td>0.258265</td>\n",
       "      <td>0.171686</td>\n",
       "      <td>0.161543</td>\n",
       "      <td>0.466873</td>\n",
       "    </tr>\n",
       "    <tr>\n",
       "      <th>min</th>\n",
       "      <td>3.921784e+04</td>\n",
       "      <td>5.030230e+06</td>\n",
       "      <td>-1.000000</td>\n",
       "      <td>0.000000</td>\n",
       "      <td>0.000000</td>\n",
       "      <td>0.000000</td>\n",
       "      <td>0.000000</td>\n",
       "      <td>0.000000</td>\n",
       "      <td>0.000000</td>\n",
       "    </tr>\n",
       "    <tr>\n",
       "      <th>25%</th>\n",
       "      <td>4.172614e+12</td>\n",
       "      <td>5.640286e+06</td>\n",
       "      <td>18.000000</td>\n",
       "      <td>0.000000</td>\n",
       "      <td>0.000000</td>\n",
       "      <td>0.000000</td>\n",
       "      <td>0.000000</td>\n",
       "      <td>0.000000</td>\n",
       "      <td>0.000000</td>\n",
       "    </tr>\n",
       "    <tr>\n",
       "      <th>50%</th>\n",
       "      <td>3.173184e+13</td>\n",
       "      <td>5.680573e+06</td>\n",
       "      <td>37.000000</td>\n",
       "      <td>0.000000</td>\n",
       "      <td>0.000000</td>\n",
       "      <td>0.000000</td>\n",
       "      <td>0.000000</td>\n",
       "      <td>0.000000</td>\n",
       "      <td>0.000000</td>\n",
       "    </tr>\n",
       "    <tr>\n",
       "      <th>75%</th>\n",
       "      <td>9.439172e+13</td>\n",
       "      <td>5.725524e+06</td>\n",
       "      <td>55.000000</td>\n",
       "      <td>0.000000</td>\n",
       "      <td>0.000000</td>\n",
       "      <td>0.000000</td>\n",
       "      <td>0.000000</td>\n",
       "      <td>0.000000</td>\n",
       "      <td>1.000000</td>\n",
       "    </tr>\n",
       "    <tr>\n",
       "      <th>max</th>\n",
       "      <td>9.999816e+14</td>\n",
       "      <td>5.790484e+06</td>\n",
       "      <td>115.000000</td>\n",
       "      <td>1.000000</td>\n",
       "      <td>1.000000</td>\n",
       "      <td>1.000000</td>\n",
       "      <td>1.000000</td>\n",
       "      <td>4.000000</td>\n",
       "      <td>1.000000</td>\n",
       "    </tr>\n",
       "  </tbody>\n",
       "</table>\n",
       "</div>"
      ],
      "text/plain": [
       "          PatientId  AppointmentID            Age    Scholarship  \\\n",
       "count  1.105270e+05   1.105270e+05  110527.000000  110527.000000   \n",
       "mean   1.474963e+14   5.675305e+06      37.088874       0.098266   \n",
       "std    2.560949e+14   7.129575e+04      23.110205       0.297675   \n",
       "min    3.921784e+04   5.030230e+06      -1.000000       0.000000   \n",
       "25%    4.172614e+12   5.640286e+06      18.000000       0.000000   \n",
       "50%    3.173184e+13   5.680573e+06      37.000000       0.000000   \n",
       "75%    9.439172e+13   5.725524e+06      55.000000       0.000000   \n",
       "max    9.999816e+14   5.790484e+06     115.000000       1.000000   \n",
       "\n",
       "        Hipertension       Diabetes     Alcoholism        Handcap  \\\n",
       "count  110527.000000  110527.000000  110527.000000  110527.000000   \n",
       "mean        0.197246       0.071865       0.030400       0.022248   \n",
       "std         0.397921       0.258265       0.171686       0.161543   \n",
       "min         0.000000       0.000000       0.000000       0.000000   \n",
       "25%         0.000000       0.000000       0.000000       0.000000   \n",
       "50%         0.000000       0.000000       0.000000       0.000000   \n",
       "75%         0.000000       0.000000       0.000000       0.000000   \n",
       "max         1.000000       1.000000       1.000000       4.000000   \n",
       "\n",
       "        SMS_received  \n",
       "count  110527.000000  \n",
       "mean        0.321026  \n",
       "std         0.466873  \n",
       "min         0.000000  \n",
       "25%         0.000000  \n",
       "50%         0.000000  \n",
       "75%         1.000000  \n",
       "max         1.000000  "
      ]
     },
     "execution_count": 6,
     "metadata": {},
     "output_type": "execute_result"
    }
   ],
   "source": [
    "# this returns summary statistic of dataset.\n",
    "df.describe()"
   ]
  },
  {
   "cell_type": "markdown",
   "metadata": {},
   "source": [
    "Next step, we will check if there is any missing values."
   ]
  },
  {
   "cell_type": "code",
   "execution_count": 7,
   "metadata": {},
   "outputs": [
    {
     "name": "stdout",
     "output_type": "stream",
     "text": [
      "Columns with missing value? False.\n"
     ]
    },
    {
     "data": {
      "text/plain": [
       "PatientId         0\n",
       "AppointmentID     0\n",
       "Gender            0\n",
       "ScheduledDay      0\n",
       "AppointmentDay    0\n",
       "Age               0\n",
       "Neighbourhood     0\n",
       "Scholarship       0\n",
       "Hipertension      0\n",
       "Diabetes          0\n",
       "Alcoholism        0\n",
       "Handcap           0\n",
       "SMS_received      0\n",
       "No-show           0\n",
       "dtype: int64"
      ]
     },
     "execution_count": 7,
     "metadata": {},
     "output_type": "execute_result"
    }
   ],
   "source": [
    "# Number of missing values in the dataset\n",
    "print(\"Columns with missing value? {}.\".format(df.isna().values.any()))\n",
    "pd.isnull(df).sum()"
   ]
  },
  {
   "cell_type": "code",
   "execution_count": 8,
   "metadata": {},
   "outputs": [
    {
     "name": "stdout",
     "output_type": "stream",
     "text": [
      "Number of duplicated record? 0.\n"
     ]
    }
   ],
   "source": [
    "# Number of duplicated values in the dataset\n",
    "print(\"Number of duplicated record? {}.\".format(sum(df.duplicated())))"
   ]
  },
  {
   "cell_type": "markdown",
   "metadata": {},
   "source": [
    "Here, unique values of some columns are observed."
   ]
  },
  {
   "cell_type": "code",
   "execution_count": 9,
   "metadata": {},
   "outputs": [
    {
     "name": "stdout",
     "output_type": "stream",
     "text": [
      "Find distinct unique values of each column\n",
      "------------------------------------------\n",
      "Age: [-1, 0, 1, 2, 3, 4, 5, 6, 7, 8, 9, 10, 11, 12, 13, 14, 15, 16, 17, 18, 19, 20, 21, 22, 23, 24, 25, 26, 27, 28, 29, 30, 31, 32, 33, 34, 35, 36, 37, 38, 39, 40, 41, 42, 43, 44, 45, 46, 47, 48, 49, 50, 51, 52, 53, 54, 55, 56, 57, 58, 59, 60, 61, 62, 63, 64, 65, 66, 67, 68, 69, 70, 71, 72, 73, 74, 75, 76, 77, 78, 79, 80, 81, 82, 83, 84, 85, 86, 87, 88, 89, 90, 91, 92, 93, 94, 95, 96, 97, 98, 99, 100, 102, 115]\n",
      "The column `Age` contains values from -1 to 115. \n",
      "\n",
      "Gender: ['F' 'M']\n",
      "Neighbourhood ['JARDIM DA PENHA' 'MATA DA PRAIA' 'PONTAL DE CAMBURI' 'REPÚBLICA'\n",
      " 'GOIABEIRAS' 'ANDORINHAS' 'CONQUISTA' 'NOVA PALESTINA' 'DA PENHA'\n",
      " 'TABUAZEIRO' 'BENTO FERREIRA' 'SÃO PEDRO' 'SANTA MARTHA' 'SÃO CRISTÓVÃO'\n",
      " 'MARUÍPE' 'GRANDE VITÓRIA' 'SÃO BENEDITO' 'ILHA DAS CAIEIRAS'\n",
      " 'SANTO ANDRÉ' 'SOLON BORGES' 'BONFIM' 'JARDIM CAMBURI' 'MARIA ORTIZ'\n",
      " 'JABOUR' 'ANTÔNIO HONÓRIO' 'RESISTÊNCIA' 'ILHA DE SANTA MARIA'\n",
      " 'JUCUTUQUARA' 'MONTE BELO' 'MÁRIO CYPRESTE' 'SANTO ANTÔNIO' 'BELA VISTA'\n",
      " 'PRAIA DO SUÁ' 'SANTA HELENA' 'ITARARÉ' 'INHANGUETÁ' 'UNIVERSITÁRIO'\n",
      " 'SÃO JOSÉ' 'REDENÇÃO' 'SANTA CLARA' 'CENTRO' 'PARQUE MOSCOSO'\n",
      " 'DO MOSCOSO' 'SANTOS DUMONT' 'CARATOÍRA' 'ARIOVALDO FAVALESSA'\n",
      " 'ILHA DO FRADE' 'GURIGICA' 'JOANA D´ARC' 'CONSOLAÇÃO' 'PRAIA DO CANTO'\n",
      " 'BOA VISTA' 'MORADA DE CAMBURI' 'SANTA LUÍZA' 'SANTA LÚCIA'\n",
      " 'BARRO VERMELHO' 'ESTRELINHA' 'FORTE SÃO JOÃO' 'FONTE GRANDE'\n",
      " 'ENSEADA DO SUÁ' 'SANTOS REIS' 'PIEDADE' 'JESUS DE NAZARETH'\n",
      " 'SANTA TEREZA' 'CRUZAMENTO' 'ILHA DO PRÍNCIPE' 'ROMÃO' 'COMDUSA'\n",
      " 'SANTA CECÍLIA' 'VILA RUBIM' 'DE LOURDES' 'DO QUADRO' 'DO CABRAL' 'HORTO'\n",
      " 'SEGURANÇA DO LAR' 'ILHA DO BOI' 'FRADINHOS' 'NAZARETH' 'AEROPORTO'\n",
      " 'ILHAS OCEÂNICAS DE TRINDADE' 'PARQUE INDUSTRIAL']\n",
      "The column `Neighbourhood` contains 81 unique values. \n",
      "\n",
      "Scholarship: [0 1] \n",
      "\n",
      "Hipertension: [1 0] \n",
      "\n",
      "Diabetes: [0 1] \n",
      "\n",
      "Alcoholism: [0 1] \n",
      "\n",
      "Handcap: [0 1 2 3 4] \n",
      "\n",
      "SMS_received: [0 1] \n",
      "\n"
     ]
    }
   ],
   "source": [
    "# Return unique value of columns\n",
    "print('Find distinct unique values of each column')\n",
    "print('------------------------------------------')\n",
    "print('Age:',sorted(df.Age.unique()))\n",
    "print(\"The column `Age` contains values from {} to {}.\".\n",
    "      format(df['Age'].min(), df['Age'].max()), '\\n')\n",
    "\n",
    "print('Gender:',df.Gender.unique())\n",
    "print(\"Neighbourhood\",df.Neighbourhood.unique())\n",
    "print(\"The column `Neighbourhood` contains {} unique values.\".\n",
    "      format(df['Neighbourhood'].nunique()),'\\n')\n",
    "\n",
    "print('Scholarship:',df.Scholarship.unique(),'\\n')\n",
    "print('Hipertension:',df.Hipertension.unique(),'\\n')\n",
    "print('Diabetes:',df.Diabetes.unique(),'\\n')\n",
    "print('Alcoholism:',df.Alcoholism.unique(),'\\n')\n",
    "print('Handcap:',df.Handcap.unique(),'\\n')\n",
    "print('SMS_received:',df.SMS_received.unique(),'\\n')\n",
    "#print('No-show: ',df.No-show.unique(),'\\n')"
   ]
  },
  {
   "cell_type": "markdown",
   "metadata": {},
   "source": [
    "Let us also at look  `AppointmentDay` to see what datatype is it, and Min and Max of ` AppointmentDay`."
   ]
  },
  {
   "cell_type": "code",
   "execution_count": 10,
   "metadata": {},
   "outputs": [
    {
     "data": {
      "text/plain": [
       "'2016-04-29T00:00:00Z'"
      ]
     },
     "execution_count": 10,
     "metadata": {},
     "output_type": "execute_result"
    }
   ],
   "source": [
    "# Appointment min and max date.\n",
    "\n",
    "min(df['AppointmentDay']) "
   ]
  },
  {
   "cell_type": "code",
   "execution_count": 11,
   "metadata": {},
   "outputs": [
    {
     "data": {
      "text/plain": [
       "'2016-06-08T00:00:00Z'"
      ]
     },
     "execution_count": 11,
     "metadata": {},
     "output_type": "execute_result"
    }
   ],
   "source": [
    "max(df['AppointmentDay'])"
   ]
  },
  {
   "cell_type": "markdown",
   "metadata": {},
   "source": [
    "\n",
    "\n",
    "###  2.3 Cleaning data\n",
    "\n",
    ">Steps taken :\n",
    "- Convert datatypes (convert dates from object to datetime)\n",
    "- Create new column\n",
    "- Drop unnecessary columns and rows\n",
    "- Rename column labels to snake case or more meaningful name\n",
    "- Spelling correction\n",
    "- Replace data value"
   ]
  },
  {
   "cell_type": "markdown",
   "metadata": {},
   "source": [
    "The columns `ScheduleDay` and `AppointmentDay` will be splitted into \n",
    "into date and time columns using `numpy datetime64 function`.\n",
    "The date and time may be needed for analysis later."
   ]
  },
  {
   "cell_type": "code",
   "execution_count": 12,
   "metadata": {},
   "outputs": [],
   "source": [
    "# Convert datatype of AppointmentDay to Datetime\n",
    "# Split it into AppointmentDayDate and AppointmentDayTime\n",
    "df['ScheduledDay'] = df['ScheduledDay'].apply(np.datetime64)\n",
    "df['ScheduledDayDate'] = pd.to_datetime(df['ScheduledDay']).dt.date\n",
    "df['AppointmentDay'] = df['AppointmentDay'].apply(np.datetime64)\n",
    "df['AppointmentDayDate'] = pd.to_datetime(df['AppointmentDay']).dt.date\n",
    "df['AppointmentDayTime'] = pd.to_datetime(df['AppointmentDay']).dt.time"
   ]
  },
  {
   "cell_type": "markdown",
   "metadata": {},
   "source": [
    "Create a new column to store waiting days from the `ScheduledDay` to `AppointmentDate`."
   ]
  },
  {
   "cell_type": "code",
   "execution_count": 13,
   "metadata": {},
   "outputs": [],
   "source": [
    "\n",
    "df['NumberOfWaitingDays'] = (df['AppointmentDayDate'] - df['ScheduledDayDate']).dt.days\n"
   ]
  },
  {
   "cell_type": "markdown",
   "metadata": {},
   "source": [
    "Drop rows if\n",
    "\n",
    "- Patient `age` is -1, this is invalid age.\n",
    "- Patient `age` bigger than 100, not many people will outlive 100 years.\n",
    "\n",
    "- `NumberOfWaitingDays` <= -1, something may have wrong because there are 6 records where appointment day past the scheduled day."
   ]
  },
  {
   "cell_type": "code",
   "execution_count": 14,
   "metadata": {},
   "outputs": [],
   "source": [
    "# Drop rows \n",
    "df.drop(df[df['Age'] == -1].index, inplace=True)\n",
    "df.drop(df[df['Age'] > 100].index, inplace=True)\n"
   ]
  },
  {
   "cell_type": "code",
   "execution_count": 15,
   "metadata": {},
   "outputs": [],
   "source": [
    "df.drop(df[df['NumberOfWaitingDays'] <= -1].index, inplace=True)"
   ]
  },
  {
   "cell_type": "markdown",
   "metadata": {},
   "source": [
    "Rename the column name to snake case. Column `no-show` will be renamed to `show_up` and `neighbourhood` to `hospital-location` for better representation."
   ]
  },
  {
   "cell_type": "code",
   "execution_count": 16,
   "metadata": {},
   "outputs": [],
   "source": [
    "\n",
    "# Renaming columns\n",
    "\n",
    "def camelcase_to_snakecase(name):\n",
    "    s1 = re.sub('(.)([A-Z][a-z]+)', r'\\1_\\2', name)\n",
    "    return re.sub('([a-z0-9])([A-Z])', r'\\1_\\2', s1).lower()\n",
    "\n",
    "df.columns = df.columns.map(camelcase_to_snakecase)\n",
    "\n"
   ]
  },
  {
   "cell_type": "code",
   "execution_count": 17,
   "metadata": {},
   "outputs": [],
   "source": [
    "# Rename columns with more meaningful names\n",
    "df.rename(columns={'no-show':'show_up'}, inplace=True)\n",
    "df.rename(columns={'neighbourhood':'hospital-location'}, inplace=True)"
   ]
  },
  {
   "cell_type": "markdown",
   "metadata": {},
   "source": [
    "Rename the columns to correct the spelling error."
   ]
  },
  {
   "cell_type": "code",
   "execution_count": 18,
   "metadata": {},
   "outputs": [],
   "source": [
    "df.rename(columns={'hipertension':'hypertension', 'handcap':'handicap'}, inplace=True)"
   ]
  },
  {
   "cell_type": "markdown",
   "metadata": {},
   "source": [
    "Replace the value in `show_up`,  `No-> 1` and `Yes->0`"
   ]
  },
  {
   "cell_type": "code",
   "execution_count": 19,
   "metadata": {},
   "outputs": [],
   "source": [
    "# Replace new col 'show_up' values No->1(Yes) and Yes->0(No)\n",
    "df['show_up'].replace(['No', 'Yes'], [1, 0], inplace=True)"
   ]
  },
  {
   "cell_type": "markdown",
   "metadata": {},
   "source": [
    "Save csv to new file. I need to verify cleaned data from csv."
   ]
  },
  {
   "cell_type": "code",
   "execution_count": 20,
   "metadata": {},
   "outputs": [],
   "source": [
    "df.to_csv('noshowappointments_v1.csv', index=False)"
   ]
  },
  {
   "cell_type": "markdown",
   "metadata": {},
   "source": [
    "Load cleaned data for exploration and analysis."
   ]
  },
  {
   "cell_type": "code",
   "execution_count": 21,
   "metadata": {},
   "outputs": [],
   "source": [
    "# Loading and inspecting the dataset that created above. \n",
    "df_1 = pd.read_csv('noshowappointments_v1.csv')\n"
   ]
  },
  {
   "cell_type": "markdown",
   "metadata": {},
   "source": [
    "<a id='eda'></a>\n",
    "## 3. Exploratory Data Analysis\n",
    " \n",
    "\n",
    "### Question 1 :  How scholarship relates to the target variable ? \n",
    "\n",
    "`Scholarship` indicates whether or not the patient is enrolled in Brasilian welfare program Bolsa Família.\n",
    "I will find out if there if patient that enrolled in this welfare program is more likely to show up or not."
   ]
  },
  {
   "cell_type": "markdown",
   "metadata": {},
   "source": [
    "A histogram to shows distribution of number of patients who has scholarship and without and their show up result."
   ]
  },
  {
   "cell_type": "code",
   "execution_count": 22,
   "metadata": {},
   "outputs": [
    {
     "data": {
      "image/png": "[encoded data removed]",
      "text/plain": [
       "<Figure size 432x288 with 1 Axes>"
      ]
     },
     "metadata": {
      "needs_background": "light"
     },
     "output_type": "display_data"
    }
   ],
   "source": [
    "target_var = 'show_up'\n",
    "\n",
    "show_yes= df_1.show_up == 1\n",
    "show_no = df_1.show_up == 0\n",
    "\n",
    "df_1.scholarship[show_yes].hist(alpha =0.5, bins=2, label='show up')\n",
    "df_1.scholarship[show_no].hist(alpha =0.5, bins=2, label='no show up')\n",
    " \n",
    "plt.title('Distribution of patients with/without scholarship vs show up result ')\n",
    "plt.ylabel('Number of patients')\n",
    "plt.xlabel('Scholarship (Yes = 1, No = 0)')\n",
    "plt.legend();\n",
    "plt.show();"
   ]
  },
  {
   "cell_type": "markdown",
   "metadata": {},
   "source": [
    "From histogram, we can see that the number of those who have scholarship have a more `show up` then `no show up`. No much insight I get from this information, I will do a calculation to look at the percentage."
   ]
  },
  {
   "cell_type": "code",
   "execution_count": 23,
   "metadata": {},
   "outputs": [
    {
     "name": "stdout",
     "output_type": "stream",
     "text": [
      "---------------------------------------------------------------\n",
      "Scholarship  relate to show_up status (1=Yes, 0=No) by percentage (%). \n",
      "\n",
      "scholarship  show_up\n",
      "0            0          17.855656\n",
      "             1          72.316630\n",
      "1            0           2.332736\n",
      "             1           7.494978\n",
      "Name: patient_id, dtype: float64 \n",
      "\n"
     ]
    }
   ],
   "source": [
    "print('---------------------------------------------------------------')\n",
    "print( \"Scholarship  relate to show_up status (1=Yes, 0=No) by percentage (%).\", '\\n')\n",
    "\n",
    "print((df_1.groupby(['scholarship',target_var])['patient_id'].count()/df_1.shape[0])*100, '\\n')"
   ]
  },
  {
   "cell_type": "markdown",
   "metadata": {},
   "source": [
    "`9.8%` of the total patients enrolled the scholarship and out of it, 7.5% show up and 2.3% did not show up.\n",
    "From the data, those who receive scholarship is more likely to show up, but I do not see a strong relationship between `scholarship` with `show-up` result."
   ]
  },
  {
   "cell_type": "markdown",
   "metadata": {},
   "source": [
    "### Question 2 :  How does sms reminder relate to show up status for appointment ? \n",
    "> - Overall, how many percent of those who receive SMS did not show up ?\n",
    "> - Overall, how many percent of those who didn't not receive sms show up ?"
   ]
  },
  {
   "cell_type": "markdown",
   "metadata": {},
   "source": [
    "Data is selected group by sms_received and show_up, the row count and percentage are calculated as below : "
   ]
  },
  {
   "cell_type": "code",
   "execution_count": 24,
   "metadata": {},
   "outputs": [
    {
     "name": "stdout",
     "output_type": "stream",
     "text": [
      "---------------------------------------------------------------\n",
      "sms_received relate to show_up status (1=Yes, 0=No) by number of patients.  \n",
      "\n",
      "sms_received  show_up\n",
      "0             0          12527\n",
      "              1          62506\n",
      "1             0           9784\n",
      "              1          25697\n",
      "Name: patient_id, dtype: int64 \n",
      "\n",
      "---------------------------------------------------------------\n",
      "sms_received  relate to show_up status (1=Yes, 0=No) by percentage (%). \n",
      "\n",
      "sms_received  show_up\n",
      "0             0          11.335215\n",
      "              1          56.559350\n",
      "1             0           8.853177\n",
      "              1          23.252258\n",
      "Name: patient_id, dtype: float64 \n",
      "\n"
     ]
    }
   ],
   "source": [
    "# Calculate show up pecentage of patients who receive SMS or not.\n",
    "sms_received = df_1.query('sms_received == 1')\n",
    "no_sms_received = df_1.query('sms_received == 0')\n",
    "sms_received_show_up_count = sms_received.groupby('show_up')['patient_id'].count()\n",
    "no_sms_received_show_up_count = no_sms_received.groupby('show_up')['patient_id'].count()\n",
    "sms_received_show_up_proportion = sms_received_show_up_count/sms_received_show_up_count.sum()\n",
    "no_sms_received_show_up_proportion = no_sms_received_show_up_count/no_sms_received_show_up_count.sum()\n",
    "\n",
    "print('---------------------------------------------------------------')\n",
    "print( \"sms_received relate to show_up status (1=Yes, 0=No) by number of patients. \", '\\n')\n",
    "\n",
    "print((df_1.groupby(['sms_received', target_var])['patient_id'].count()), '\\n')\n",
    "\n",
    "print('---------------------------------------------------------------')\n",
    "\n",
    "print( \"sms_received  relate to show_up status (1=Yes, 0=No) by percentage (%).\", '\\n')\n",
    "\n",
    "print((df_1.groupby(['sms_received',target_var])['patient_id'].count()/df_1.shape[0])*100, '\\n')"
   ]
  },
  {
   "cell_type": "code",
   "execution_count": 25,
   "metadata": {},
   "outputs": [
    {
     "data": {
      "image/png": "[encoded data removed]",
      "text/plain": [
       "<Figure size 576x360 with 1 Axes>"
      ]
     },
     "metadata": {},
     "output_type": "display_data"
    }
   ],
   "source": [
    "sms_received_show_up_percentage=(df_1.groupby(['sms_received',target_var])['patient_id'].count()/df_1.shape[0])*100\n",
    "sms_received_show_up_percentage.name = ''\n",
    "sms_received_show_up_percentage.plot(kind='pie', figsize=(8, 5))\n",
    "\n",
    "labels = [r'No SMS and no show up (11.3%)', r'No SMS and show up (56.57%)', \n",
    "r'SMS and no show up (8.85 %)', r'SMS and show up (23.25%)']\n",
    "sizes = [11.339, 56.557, 8.8528, 23.251]\n",
    "patches, texts = plt.pie(sizes)\n",
    "plt.title('Proportions of patients with/without SMS notification & show up status')\n",
    "plt.legend(patches, labels, loc=\"best\")\n",
    "plt.axis('equal')\n",
    "plt.tight_layout()\n",
    "plt.show()"
   ]
  },
  {
   "cell_type": "markdown",
   "metadata": {},
   "source": [
    "From the above pie chart above, contrary to the usual belief, it appears that sending of SMS to the patient for \n",
    "their appointments isn’t making a big difference. "
   ]
  },
  {
   "cell_type": "markdown",
   "metadata": {},
   "source": [
    "### Question 3 : Which locations of hospital are having most appointment that did not show up  ?\n"
   ]
  },
  {
   "cell_type": "markdown",
   "metadata": {},
   "source": [
    ">Location that is hard to be accessed may affect the patients to show up in appointment. There is no information about whether the location is in city/outskirt area or what kind of transportation available to access to the hospital location. \n",
    "\n",
    ">1) Find out what are the top 10 location that have the most patients who are not showing up.\n",
    "\n",
    ">2) What are the numbers of female or male from top 10 location that are not showing up ? "
   ]
  },
  {
   "cell_type": "markdown",
   "metadata": {},
   "source": [
    "#### Find out what are the top 10 locations that have the most patients who are not showing up.\n",
    "\n"
   ]
  },
  {
   "cell_type": "code",
   "execution_count": 26,
   "metadata": {},
   "outputs": [],
   "source": [
    "# calculate top 5 hospital locations that did not show up in appointment.\n",
    "df_show_no = df_1.query('show_up == 0' ) \n",
    "df_location_top_no_show=df_show_no.groupby('hospital-location')['patient_id'].count().sort_values(ascending=False).head(5)\n",
    " "
   ]
  },
  {
   "cell_type": "code",
   "execution_count": 27,
   "metadata": {},
   "outputs": [
    {
     "name": "stdout",
     "output_type": "stream",
     "text": [
      "Top 5 locations and the number of patients\n",
      "-------------------------------------------\n",
      "hospital-location\n",
      "JARDIM CAMBURI    1465\n",
      "MARIA ORTIZ       1219\n",
      "ITARARÉ            923\n",
      "RESISTÊNCIA        905\n",
      "CENTRO             703\n",
      "Name: patient_id, dtype: int64\n"
     ]
    }
   ],
   "source": [
    "print('Top 5 locations and the number of patients')\n",
    "print('-------------------------------------------')\n",
    "print(df_location_top_no_show)"
   ]
  },
  {
   "cell_type": "code",
   "execution_count": 28,
   "metadata": {},
   "outputs": [
    {
     "data": {
      "image/png": "[encoded data removed]",
      "text/plain": [
       "<Figure size 432x288 with 1 Axes>"
      ]
     },
     "metadata": {
      "needs_background": "light"
     },
     "output_type": "display_data"
    }
   ],
   "source": [
    " \n",
    "df_location_top_no_show.plot(kind='bar');\n",
    "plt.title('Hospital location vs no show up')\n",
    "plt.ylabel('Number of patients who did not show up')\n",
    "plt.xlabel('Hospital location')\n",
    "plt.show();"
   ]
  },
  {
   "cell_type": "markdown",
   "metadata": {},
   "source": [
    "After plotting `show up = No` and grouped by `hospital-location` we can see that Hospital located at JARDIM CAMBURI has the highest number of patients not showing up, which is 1465 people.Followed by MARIA ORTIZ - 1219 people and ITARARÉ - 923. "
   ]
  },
  {
   "cell_type": "markdown",
   "metadata": {},
   "source": [
    " ####  What are the numbers of female or male from top 10 locations that no show ?\n",
    " \n",
    " > - Female or male has the higher tendency not to show up ?"
   ]
  },
  {
   "cell_type": "code",
   "execution_count": 29,
   "metadata": {},
   "outputs": [],
   "source": [
    "# calculate top 10 hospital locations by gender that did not show up in appointment.\n",
    "\n",
    "df_location_top_no_show_gender=df_show_no.groupby(['hospital-location', 'gender'])['patient_id'].count().sort_values(ascending=False).head(10)"
   ]
  },
  {
   "cell_type": "code",
   "execution_count": 30,
   "metadata": {},
   "outputs": [
    {
     "name": "stdout",
     "output_type": "stream",
     "text": [
      "Top 10 locations and the number of patients by gender\n",
      "------------------------------------------------------\n",
      "hospital-location  gender\n",
      "JARDIM CAMBURI     F         997\n",
      "MARIA ORTIZ        F         794\n",
      "ITARARÉ            F         604\n",
      "RESISTÊNCIA        F         570\n",
      "JARDIM CAMBURI     M         468\n",
      "JESUS DE NAZARETH  F         442\n",
      "MARIA ORTIZ        M         425\n",
      "JARDIM DA PENHA    F         414\n",
      "CENTRO             F         398\n",
      "CARATOÍRA          F         381\n",
      "Name: patient_id, dtype: int64\n"
     ]
    }
   ],
   "source": [
    "\n",
    "print('Top 10 locations and the number of patients by gender')\n",
    "print('------------------------------------------------------')\n",
    "print(df_location_top_no_show_gender)"
   ]
  },
  {
   "cell_type": "code",
   "execution_count": 31,
   "metadata": {},
   "outputs": [
    {
     "data": {
      "image/png": "[encoded data removed]",
      "text/plain": [
       "<Figure size 432x288 with 1 Axes>"
      ]
     },
     "metadata": {
      "needs_background": "light"
     },
     "output_type": "display_data"
    }
   ],
   "source": [
    "\n",
    "df_location_top_no_show_gender.plot(kind='bar');\n",
    "plt.title('Hospital location and gender vs no show up ')\n",
    "plt.ylabel('Number of patients who did not show up')\n",
    "plt.xlabel('Hospital location')\n",
    "plt.show();\n"
   ]
  },
  {
   "cell_type": "markdown",
   "metadata": {},
   "source": [
    "After plotting `show up = No` and grouped by `hospital-location and gender`, we can see that female patients from hospital at `JARDIM CAMBURI` also give the highest count among the no show up result."
   ]
  },
  {
   "cell_type": "markdown",
   "metadata": {},
   "source": [
    "###  Question 4 : Will those below 10 years old and above 80 years old give a higher  no show up result ?\n",
    "\n",
    "> Those who are younger than 12 and above 80 years old are dependant on others to transport them to hospital. Chances for them to miss the appoinment is higher if they cannot find help.\n",
    "\n",
    ">1)  I will shows the distribution of show up result by number of waiting days using a graph.\n",
    "\n",
    ">2) Use 10 `age_group_range` to calcute the percentage of show up status.\n",
    "> - Child : 0 - 10\n",
    "> - Teen : 11-20\n",
    "> - Young adult : 21-30\n",
    "> -  Adult 1 : 31-40\n",
    "> -  Adult 2 : 41-50\n",
    "> -  Adult 3 : 51-60\n",
    "> -  Senior adult : 61-70\n",
    "> -  Old : 71-80\n",
    "> -  Old 2 : 81-90\n",
    "> - Old 3 : 91-100"
   ]
  },
  {
   "cell_type": "markdown",
   "metadata": {},
   "source": [
    "Graph below shows the distribution of show up result by `number of waiting days`."
   ]
  },
  {
   "cell_type": "code",
   "execution_count": 32,
   "metadata": {},
   "outputs": [
    {
     "data": {
      "image/png": "[encoded data removed]",
      "text/plain": [
       "<Figure size 720x576 with 1 Axes>"
      ]
     },
     "metadata": {
      "needs_background": "light"
     },
     "output_type": "display_data"
    }
   ],
   "source": [
    "\n",
    "# Plot the distribution of distribution of show up result by `age`.\n",
    "\n",
    "plt.figure(figsize=(10,8))\n",
    "plt.hist([df_1[df_1['show_up']==1]['age'], df_1[df_1['show_up']==0]['age']], stacked=False, color = ['b','r'],label = ['show up','no show up'])\n",
    "plt.legend()\n",
    "plt.title('Distribution of showed up patient age')\n",
    "plt.ylabel('Number of patients')\n",
    "plt.xlabel('Age')\n",
    "plt.show();\n"
   ]
  },
  {
   "cell_type": "markdown",
   "metadata": {},
   "source": [
    "Next, I will try to calculate the count and percentage.  I am using 10 different age group as variable to calcute the percentage of show up status.\n",
    " "
   ]
  },
  {
   "cell_type": "code",
   "execution_count": 33,
   "metadata": {},
   "outputs": [
    {
     "name": "stdout",
     "output_type": "stream",
     "text": [
      "------------------------------------------------------------------- \n",
      "\n",
      "Age_group_range from 0 to 10 years old.\n",
      "---------------------------\n",
      "Total row count : 13935 \n",
      "\n",
      "Show up = Yes\n",
      "11091 rows \n",
      "79.59095801937566 %  \n",
      "\n",
      "Show up = No\n",
      "2844 rows \n",
      "20.409041980624327 %  \n",
      "\n",
      "------------------------------------------------------------------- \n",
      "\n",
      "Age_group_range from 11 to 21 years old.\n",
      "---------------------------\n",
      "Total row count : 11903 \n",
      "\n",
      "Show up = Yes\n",
      "8843 rows \n",
      "74.29219524489625 %  \n",
      "\n",
      "Show up = No\n",
      "3060 rows \n",
      "25.70780475510376 %  \n",
      "\n",
      "------------------------------------------------------------------- \n",
      "\n",
      "Age_group_range from 21 to 31 years old.\n",
      "---------------------------\n",
      "Total row count : 12330 \n",
      "\n",
      "Show up = Yes\n",
      "9292 rows \n",
      "75.36090835360908 %  \n",
      "\n",
      "Show up = No\n",
      "3038 rows \n",
      "24.639091646390916 %  \n",
      "\n",
      "------------------------------------------------------------------- \n",
      "\n",
      "Age_group_range from 31 to 41 years old.\n",
      "---------------------------\n",
      "Total row count : 13612 \n",
      "\n",
      "Show up = Yes\n",
      "10701 rows \n",
      "78.6144578313253 %  \n",
      "\n",
      "Show up = No\n",
      "2911 rows \n",
      "21.385542168674696 %  \n",
      "\n",
      "------------------------------------------------------------------- \n",
      "\n",
      "Age_group_range from 41 to 51 years old.\n",
      "---------------------------\n",
      "Total row count : 13074 \n",
      "\n",
      "Show up = Yes\n",
      "10512 rows \n",
      "80.40385497934832 %  \n",
      "\n",
      "Show up = No\n",
      "2562 rows \n",
      "19.596145020651676 %  \n",
      "\n",
      "------------------------------------------------------------------- \n",
      "\n",
      "Age_group_range from 51 to 61 years old.\n",
      "---------------------------\n",
      "Total row count : 14094 \n",
      "\n",
      "Show up = Yes\n",
      "11656 rows \n",
      "82.70185894706967 %  \n",
      "\n",
      "Show up = No\n",
      "2438 rows \n",
      "17.298141052930323 %  \n",
      "\n",
      "------------------------------------------------------------------- \n",
      "\n",
      "Age_group_range from 61 to 71 years old.\n",
      "---------------------------\n",
      "Total row count : 9846 \n",
      "\n",
      "Show up = Yes\n",
      "8398 rows \n",
      "85.29352021125331 %  \n",
      "\n",
      "Show up = No\n",
      "1448 rows \n",
      "14.706479788746698 %  \n",
      "\n",
      "------------------------------------------------------------------- \n",
      "\n",
      "Age_group_range from 71 to 81 years old.\n",
      "---------------------------\n",
      "Total row count : 5026 \n",
      "\n",
      "Show up = Yes\n",
      "4258 rows \n",
      "84.71945881416633 %  \n",
      "\n",
      "Show up = No\n",
      "768 rows \n",
      "15.280541185833666 %  \n",
      "\n",
      "------------------------------------------------------------------- \n",
      "\n",
      "Age_group_range from 81 to 91 years old.\n",
      "---------------------------\n",
      "Total row count : 2110 \n",
      "\n",
      "Show up = Yes\n",
      "1766 rows \n",
      "83.69668246445498 %  \n",
      "\n",
      "Show up = No\n",
      "344 rows \n",
      "16.303317535545023 %  \n",
      "\n",
      "------------------------------------------------------------------- \n",
      "\n",
      "Age_group_range from 91 to 101 years old.\n",
      "---------------------------\n",
      "Total row count : 235 \n",
      "\n",
      "Show up = Yes\n",
      "189 rows \n",
      "80.42553191489363 %  \n",
      "\n",
      "Show up = No\n",
      "46 rows \n",
      "19.574468085106382 %  \n",
      "\n",
      "------------------------------------------------------------------- \n",
      "\n"
     ]
    }
   ],
   "source": [
    "# list number of waiting days to be explored.\n",
    "age_group_range= [0,11,21,31,41,51,61,71,81,91]\n",
    "print('-------------------------------------------------------------------', '\\n')\n",
    "\n",
    "\n",
    "for i in age_group_range :\n",
    "    print('Age_group_range from {} to {} years old.'.format(i, i+10))\n",
    "    print('---------------------------')\n",
    "    \n",
    "    total = df_1.query('age > @i & age < @i+10')\n",
    "    print('Total row count : {}'.format(total['show_up'].count()), '\\n')\n",
    "    \n",
    "    showedup = df_1.query('(age > @i & age < @i+10) & show_up == 1')\n",
    "    print('Show up = Yes')\n",
    "    print('{} rows '.format(showedup['show_up'].count()))\n",
    "    print('{} % '.format(showedup['show_up'].count()/total['show_up'].count()*100), '\\n')\n",
    " \n",
    "    noshowedup = df_1.query('(age > @i & age < @i+10) & show_up == 0 ')\n",
    "    print('Show up = No')\n",
    "    print('{} rows '.format(noshowedup['show_up'].count()))\n",
    "    print('{} % '.format(noshowedup['show_up'].count()/total['show_up'].count()*100), '\\n')\n",
    "    \n",
    "    print('-------------------------------------------------------------------', '\\n')\n"
   ]
  },
  {
   "cell_type": "markdown",
   "metadata": {},
   "source": [
    "Age does not big impact on the show up result.\n",
    "\n",
    "\n",
    "   "
   ]
  },
  {
   "cell_type": "markdown",
   "metadata": {},
   "source": [
    "### Question 5 :  How does appointment time affect patients show up result ?\n",
    "\n",
    "> - What is the appointment time that most patients will show up ?  \n",
    "> - Patients more likely to show up in morning or afternoon appointment ?\n",
    "\n",
    "> For this question, we will observe the relationship of column named  `appointment-day-time` and `show up` result. It is added during data cleaning stage in order to store the time of `appointment-day`  . \n",
    "\n",
    " \n"
   ]
  },
  {
   "cell_type": "markdown",
   "metadata": {},
   "source": [
    "#### Find out what is the appointment time that have most patients no show up."
   ]
  },
  {
   "cell_type": "code",
   "execution_count": 34,
   "metadata": {},
   "outputs": [
    {
     "name": "stdout",
     "output_type": "stream",
     "text": [
      "appointment_day_time\n",
      "00:00:00    110514\n",
      "Name: patient_id, dtype: int64\n"
     ]
    }
   ],
   "source": [
    "df_appt_time_top_no_show=df_1.groupby('appointment_day_time')['patient_id'].count().sort_values(ascending=False).head(5)\n",
    "print(df_appt_time_top_no_show)\n"
   ]
  },
  {
   "cell_type": "markdown",
   "metadata": {},
   "source": [
    "I tried to groupby appointment_day_time to see what would be the count of patients who did not show up in appointment.\n",
    "\n",
    "Noticed that the appointment time captured is` 00:00:00` for all patients. All the appointment in this dataset only scheduled with appointment date without a time. \n",
    "\n",
    "Thus, I cannot further explore on this question due to lacking of information."
   ]
  },
  {
   "cell_type": "markdown",
   "metadata": {},
   "source": [
    "### Question 6 :   Will patient  more likely to show up if scheduled_day is nearer to appointment_day ?\n",
    "\n",
    "> - What is the percentage of show up result with different `number_of_waiting_days` variables ?\n",
    "\n",
    "> - For this question, we will observe the relationship of column named  `number-of-waiting-days` and `show up` result. It is added during data cleaning stage in order to store value of number of days between `scheduled-day` and `appointment-day`.\n",
    "\n",
    "\n",
    "\n",
    "I will use different values of `number-of-waiting-days` to see if patients will be more likely to show up if scheduled day is nearer to appointment day."
   ]
  },
  {
   "cell_type": "code",
   "execution_count": 35,
   "metadata": {},
   "outputs": [
    {
     "data": {
      "image/png": "[encoded data removed]",
      "text/plain": [
       "<Figure size 720x576 with 1 Axes>"
      ]
     },
     "metadata": {
      "needs_background": "light"
     },
     "output_type": "display_data"
    }
   ],
   "source": [
    "plt.figure(figsize=(10,8))\n",
    "plt.hist([df_1[df_1['show_up']==1]['number_of_waiting_days'], df_1[df_1['show_up']==0]['number_of_waiting_days']], stacked=False, color = ['b','r'],label = ['show','no-show'])\n",
    "plt.legend()\n",
    "plt.title('Distribution of show up patient by number of waiting days')\n",
    "plt.ylabel('Number of patients')\n",
    "plt.xlabel('Number of waiting days')\n",
    "plt.show();"
   ]
  },
  {
   "cell_type": "markdown",
   "metadata": {},
   "source": [
    "From the histogram above, we can see that the distribution of over all show up result by `number of waiting days` for both show or no show is skewed to the right."
   ]
  },
  {
   "cell_type": "markdown",
   "metadata": {},
   "source": [
    "\n",
    "\n",
    "Next, I will use 5 different value of  `number_of_waiting_days` to calculate percentage of show up."
   ]
  },
  {
   "cell_type": "code",
   "execution_count": 36,
   "metadata": {},
   "outputs": [
    {
     "name": "stdout",
     "output_type": "stream",
     "text": [
      "------------------------------------------------------------------- \n",
      "\n",
      "Number_of waiting days < 2\n",
      "---------------------------\n",
      "Total row count : 43773 \n",
      "\n",
      "Show up = Yes\n",
      "40868 rows \n",
      "93.36348890868801 %  \n",
      "\n",
      "Show up = No\n",
      "2905 rows \n",
      "6.636511091311996 %  \n",
      "\n",
      "------------------------------------------------------------------- \n",
      "\n",
      "Number_of waiting days < 7\n",
      "---------------------------\n",
      "Total row count : 65836 \n",
      "\n",
      "Show up = Yes\n",
      "57583 rows \n",
      "87.46430524333192 %  \n",
      "\n",
      "Show up = No\n",
      "8253 rows \n",
      "12.535694756668084 %  \n",
      "\n",
      "------------------------------------------------------------------- \n",
      "\n",
      "Number_of waiting days < 30\n",
      "---------------------------\n",
      "Total row count : 99433 \n",
      "\n",
      "Show up = Yes\n",
      "80733 rows \n",
      "81.19336638741666 %  \n",
      "\n",
      "Show up = No\n",
      "18700 rows \n",
      "18.806633612583347 %  \n",
      "\n",
      "------------------------------------------------------------------- \n",
      "\n",
      "Number_of waiting days < 60\n",
      "---------------------------\n",
      "Total row count : 108346 \n",
      "\n",
      "Show up = Yes\n",
      "86662 rows \n",
      "79.98634005870083 %  \n",
      "\n",
      "Show up = No\n",
      "21684 rows \n",
      "20.01365994129917 %  \n",
      "\n",
      "------------------------------------------------------------------- \n",
      "\n",
      "Number_of waiting days < 90\n",
      "---------------------------\n",
      "Total row count : 110239 \n",
      "\n",
      "Show up = Yes\n",
      "87998 rows \n",
      "79.82474441894429 %  \n",
      "\n",
      "Show up = No\n",
      "22241 rows \n",
      "20.17525558105571 %  \n",
      "\n",
      "------------------------------------------------------------------- \n",
      "\n",
      "Number_of waiting days < 120\n",
      "---------------------------\n",
      "Total row count : 110429 \n",
      "\n",
      "Show up = Yes\n",
      "88147 rows \n",
      "79.82232927944652 %  \n",
      "\n",
      "Show up = No\n",
      "22282 rows \n",
      "20.17767072055348 %  \n",
      "\n",
      "------------------------------------------------------------------- \n",
      "\n",
      "Number_of waiting days < 150\n",
      "---------------------------\n",
      "Total row count : 110458 \n",
      "\n",
      "Show up = Yes\n",
      "88165 rows \n",
      "79.817668253997 %  \n",
      "\n",
      "Show up = No\n",
      "22293 rows \n",
      "20.182331746003005 %  \n",
      "\n",
      "------------------------------------------------------------------- \n",
      "\n"
     ]
    }
   ],
   "source": [
    "# list number of waiting days to be explored.\n",
    "num_days_list = [2, 7,30, 60, 90, 120, 150]\n",
    "print('-------------------------------------------------------------------', '\\n')\n",
    "\n",
    "\n",
    "for i in num_days_list :\n",
    "    print('Number_of waiting days < {}'.format(i))\n",
    "    print('---------------------------')\n",
    "    total_1 = df_1.query('number_of_waiting_days< @i').sort_values(by=['number_of_waiting_days'])\n",
    "    print('Total row count : {}'.format(total_1['show_up'].count()), '\\n')\n",
    " \n",
    "    noshowedup_1 = df_1.query('number_of_waiting_days < @i  & show_up == 1').sort_values(by=['number_of_waiting_days'])\n",
    "    print('Show up = Yes')\n",
    "    print('{} rows '.format(noshowedup_1['show_up'].count()))\n",
    "    print('{} % '.format(noshowedup_1['show_up'].count()/total_1['show_up'].count()*100), '\\n')\n",
    " \n",
    "    showedup_1 = df_1.query('number_of_waiting_days < @i & show_up == 0 ').sort_values(by=['number_of_waiting_days'])\n",
    "    print('Show up = No')\n",
    "    print('{} rows '.format(showedup_1['show_up'].count()))\n",
    "    print('{} % '.format(showedup_1['show_up'].count()/total_1['show_up'].count()*100), '\\n')\n",
    "    \n",
    "    print('-------------------------------------------------------------------', '\\n')\n",
    "\n"
   ]
  },
  {
   "cell_type": "markdown",
   "metadata": {},
   "source": [
    "The percentage of patients show up is higher if `number of waiting days` is lesser."
   ]
  },
  {
   "cell_type": "markdown",
   "metadata": {},
   "source": [
    "<a id='conclusions'></a>\n",
    "## 4. Conclusions\n",
    "\n",
    "> ### Question 1 : How `scholarship` relate to the `show-up` ? Patient that enrolled in this welfare program is more likely to show up ?\n",
    "- 9.8% of the total patients have enrolled into the scholarship. \n",
    "- Out of 9.8%, 7.5% show up and 2.3% did not show up. \n",
    "- From the data, those who receive scholarship is more likely to show up.\n",
    "- However, I cannot conclude that there is relationship between scholarship with show-up result.\n",
    "\n",
    "> ### Question 2 : How does sms reminder relate to show up status for appointment ?\n",
    "- Table shows percentage of SMS received VS show up\n",
    "    \n",
    "|  |Show up = Yes    | Show up = No    |   \n",
    "|:--|:--|:--|\n",
    "|SMS received  | 23.25%  | 8.85 %   |   \n",
    "| No SMS received |56.57%   |   11.3%  |\n",
    "\n",
    "\n",
    "> - From the data in table above, contrary to the usual belief, it appears that sending of SMS to the patient for their appointments isn’t making a big difference. \n",
    "\n",
    "> ### Question 3 : Which locations of hospital are having most appointment that did not show up ?\n",
    "\n",
    "> - Hospital located at JARDIM CAMBURI has the highest number of patients not showing up, which is 1465 people.Followed by MARIA ORTIZ - 1219 people and ITARARÉ - 923. \n",
    "\n",
    "> - When I selected the data group by hospital-location and gender, we can see that female patients from hospital at JARDIM CAMBURI also give the highest count among the no show up result.\n",
    "\n",
    "> - Hospital location did affect the show up result.  \n",
    "\n",
    "> ### Question 4 :Will those below 12 years old and above 75 years old give a higher no show up result ?\n",
    "\n",
    "> - A table showing the age group and its percentage of patient not show up in appointment.\n",
    "\n",
    "\n",
    "|Group  |Age range| Show up = No |   \n",
    "|:---:|:---:|:---:|\n",
    "|Child  |(0 - 10)  |20.41%   |   \n",
    "| Teen |(11-20)   |  25.71%   |\n",
    "|  Young adult |(21-30)  | 24.65%   |\n",
    "| Adult 1 |(31-40) | 21.39%|\n",
    "|Adult 2 |(41-50)  | 19.6% |\n",
    "|  Adult 3 |(51-60) |17.3 %|\n",
    "|  Senior adult |(61-70)| 14.70%|\n",
    "|  Old 1 |(71-80) | 15.28%|\n",
    "|  Old 2 |(81-90) | 16.30%|\n",
    "| Old 3  |(91-100) | 19.57%|\n",
    "\n",
    "> - Data in table above shows that Age does not big impact on the show up.\n",
    "\n",
    "> ### Question 5 : How does appointment time affect patients show up result ?\n",
    "\n",
    "> All the appointment in this dataset only schedule appointment day without a time.  Thus, I cannot further explore on this question due to lacking of information.\n",
    "    \n",
    "    \n",
    ">  ### Question 6 : Will Patient  more likely to show up if scheduled_day is nearer to appointment_day ?\n",
    "> - A table showing the number of days and percentage of number of patients not show up.\n",
    "\n",
    "| Number_of waiting days (x)      | Show up  = No  |\n",
    "| :-------------: | :-----:|\n",
    "|x < 2     | 6.65 % |\n",
    "|x < 7     | 12.54 % |\n",
    "|x < 30     | 18.81 % |\n",
    "|x < 60     | 20.017 % |\n",
    "|x < 90    | 20.179 % |\n",
    "|x < 120    | 20.181 % |\n",
    "|x < 150    | 20.184 % |\n",
    "\n",
    "> - The percentage of patients show up is higher if `number of waiting days` is lesser.\n",
    "> - Thus, patients are more likely to show up if scheduled_day is nearer to appointment_day.\n",
    "\n",
    ">### Limitation :\n",
    "\n",
    "> - I think we can better explore on hospital location with show up result if we have more characterics of the location eg: public transport access, in city or outskirt.\n",
    "\n",
    "> - We do not have appointment time to be explored.\n",
    "\n",
    "> - The data is only within 2 months, we can observe more pattern if we can have longer period of appointment day.\n",
    "\n",
    "\n",
    " "
   ]
  }
 ],
 "metadata": {
  "kernelspec": {
   "display_name": "Python 3",
   "language": "python",
   "name": "python3"
  },
  "language_info": {
   "codemirror_mode": {
    "name": "ipython",
    "version": 3
   },
   "file_extension": ".py",
   "mimetype": "text/x-python",
   "name": "python",
   "nbconvert_exporter": "python",
   "pygments_lexer": "ipython3",
   "version": "3.7.7"
  }
 },
 "nbformat": 4,
 "nbformat_minor": 2
}
